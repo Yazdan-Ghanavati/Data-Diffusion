{
  "cells": [
    {
      "cell_type": "markdown",
      "metadata": {
        "id": "FZtH7t1OMyz0"
      },
      "source": [
        "**DOWNLOAD THE DATASET**\n",
        "\n",
        "In this project, we will use a set of synthetic data that represents the physiological monitoring of the patients in an Intensive Care Unit (ICU).\n",
        "\n",
        "We download the data and add the data to the COLAB Notebook."
      ]
    },
    {
      "cell_type": "code",
      "execution_count": null,
      "metadata": {
        "id": "A8YYFFtf_vFl",
        "colab": {
          "base_uri": "https://localhost:8080/"
        },
        "outputId": "a3dd6ade-a54b-4e2c-968f-d9e242f04b72"
      },
      "outputs": [
        {
          "output_type": "stream",
          "name": "stdout",
          "text": [
            "Requirement already satisfied: googledrivedownloader in /usr/local/lib/python3.11/dist-packages (1.1.0)\n",
            "Requirement already satisfied: requests in /usr/local/lib/python3.11/dist-packages (from googledrivedownloader) (2.32.3)\n",
            "Requirement already satisfied: charset-normalizer<4,>=2 in /usr/local/lib/python3.11/dist-packages (from requests->googledrivedownloader) (3.4.2)\n",
            "Requirement already satisfied: idna<4,>=2.5 in /usr/local/lib/python3.11/dist-packages (from requests->googledrivedownloader) (3.10)\n",
            "Requirement already satisfied: urllib3<3,>=1.21.1 in /usr/local/lib/python3.11/dist-packages (from requests->googledrivedownloader) (2.4.0)\n",
            "Requirement already satisfied: certifi>=2017.4.17 in /usr/local/lib/python3.11/dist-packages (from requests->googledrivedownloader) (2025.4.26)\n",
            "Downloading 1E6hZQqk-W0FWseLrgI6RVeUi3D0rcsHP into ./ehealth_lab_5.zip... Done.\n"
          ]
        }
      ],
      "source": [
        "%pip install googledrivedownloader\n",
        "from googledrivedownloader import download_file_from_google_drive\n",
        "import zipfile\n",
        "\n",
        "download_file_from_google_drive(file_id='1E6hZQqk-W0FWseLrgI6RVeUi3D0rcsHP',\n",
        "                                dest_path='./ehealth_lab_5.zip',\n",
        "                                unzip=False,\n",
        "                                overwrite=True)\n",
        "\n",
        "with zipfile.ZipFile(\"./ehealth_lab_5.zip\",\"r\") as zip_ref:\n",
        "    zip_ref.extractall(\"./ehealth_lab_5\")\n",
        "\n",
        "path_to_dataset_folder = \"./ehealth_lab_5/\""
      ]
    },
    {
      "cell_type": "markdown",
      "metadata": {
        "id": "Q0KqkMBcDQOR"
      },
      "source": [
        "We import some Python packages."
      ]
    },
    {
      "cell_type": "code",
      "execution_count": null,
      "metadata": {
        "id": "dQGyW-HfGZUL"
      },
      "outputs": [],
      "source": [
        "import pathlib\n",
        "import os\n",
        "import copy\n",
        "import random\n",
        "import scipy\n",
        "import sklearn\n",
        "from sklearn.neural_network import MLPClassifier\n",
        "import numpy as np\n",
        "import matplotlib.pyplot as plt\n",
        "from sklearn.metrics import roc_auc_score\n",
        "from warnings import simplefilter\n",
        "from sklearn.exceptions import ConvergenceWarning\n",
        "simplefilter(\"ignore\", category=ConvergenceWarning)"
      ]
    },
    {
      "cell_type": "markdown",
      "source": [
        "We define two methods for displaying the results."
      ],
      "metadata": {
        "id": "gkbhTBQI_NX5"
      }
    },
    {
      "cell_type": "code",
      "source": [
        "def plot_boxplot(data_distributions: list,\n",
        "                  data_labels: np.ndarray,\n",
        "                  ylabel: str,\n",
        "                  xlabel: str,\n",
        "                  title: str = None):\n",
        "\n",
        "  fig = plt.figure()\n",
        "  plt.boxplot(data_distributions, tick_labels=data_labels)\n",
        "  plt.ylabel(ylabel)\n",
        "  plt.xlabel(xlabel)\n",
        "  plt.grid()\n",
        "\n",
        "  if title is not None:\n",
        "    plt.title(title)\n",
        "\n",
        "  fig.tight_layout()"
      ],
      "metadata": {
        "id": "t93xJUXX_RJI"
      },
      "execution_count": null,
      "outputs": []
    },
    {
      "cell_type": "code",
      "source": [
        "def plot_barplot(data_values: list,\n",
        "                 data_labels: list,\n",
        "                 xlabel: str,\n",
        "                 ylabel: str,\n",
        "                 title: str = None):\n",
        "\n",
        "  fig = plt.figure()\n",
        "  plt.bar(data_labels, data_values)\n",
        "  plt.xlabel(xlabel)\n",
        "  plt.ylabel(ylabel)\n",
        "  plt.grid()\n",
        "\n",
        "  if title is not None:\n",
        "    plt.title(title)"
      ],
      "metadata": {
        "id": "xPGu9OeC_TOf"
      },
      "execution_count": null,
      "outputs": []
    },
    {
      "cell_type": "markdown",
      "source": [
        "**DATASET DESCRIPTION**"
      ],
      "metadata": {
        "id": "pB37J0GXiCQO"
      }
    },
    {
      "cell_type": "markdown",
      "source": [
        "Our dataset is organized into three files:\n",
        "\n",
        "*  `data` is a dictionary containing the elements of the dataset, each key is associated with a unique ID;\n",
        "*  `data_patient_ids` is a dictionary containing the patient IDs associated with each element of the dataset;\n",
        "*  `data_labels` is a dictionary containing the labels associated with each element of the dataset.\n",
        "\n"
      ],
      "metadata": {
        "id": "x0WY_fii0Hfs"
      }
    },
    {
      "cell_type": "code",
      "source": [
        "data = np.load(path_to_dataset_folder + 'data.npy', allow_pickle=True).item()\n",
        "data_patient_ids = np.load(path_to_dataset_folder + 'data_patient_ids.npy', allow_pickle=True).item()\n",
        "data_labels = np.load(path_to_dataset_folder + 'data_labels.npy', allow_pickle=True).item()"
      ],
      "metadata": {
        "id": "1x_S74-LtB8J"
      },
      "execution_count": null,
      "outputs": []
    },
    {
      "cell_type": "markdown",
      "source": [
        "Each element in the dataset is associated with a unique identifier."
      ],
      "metadata": {
        "id": "_-97Sz-bhwIm"
      }
    },
    {
      "cell_type": "code",
      "source": [
        "data_idxs = list(data.keys())\n",
        "print(data_idxs)"
      ],
      "metadata": {
        "id": "q6qzHQCdh0ed",
        "colab": {
          "base_uri": "https://localhost:8080/"
        },
        "outputId": "56d5e40b-40cf-464e-d8cd-47321d7a4b92"
      },
      "execution_count": null,
      "outputs": [
        {
          "output_type": "stream",
          "name": "stdout",
          "text": [
            "[1, 3, 8, 19, 20, 21, 22, 24, 25, 29, 30, 32, 35, 39, 43, 51, 53, 56, 60, 62, 64, 68, 69, 70, 72, 73, 74, 83, 85, 86, 87, 93, 94, 99, 103, 106, 110, 114, 134, 137, 138, 141, 143, 147, 148, 150, 151, 152, 154, 164, 165, 166, 174, 177, 184, 194, 199, 201, 202, 208, 219, 227, 228, 233, 234, 238, 239, 245, 250, 256, 257, 259, 263, 264, 272, 275, 276, 280, 284, 291, 294, 297, 300, 311, 314, 322, 324, 326, 329, 330, 336, 342, 343, 352, 353, 357, 360, 361, 363, 365, 371, 376, 379, 381, 397, 398, 399, 400, 408, 418, 420, 423, 426, 432, 442, 447, 452, 458, 460, 462, 463, 467, 468, 471, 472, 473, 481, 485, 487, 488, 491, 492, 497, 500, 504, 508, 511, 516, 519, 520, 525, 526, 530, 536, 537, 539, 544, 547, 558, 559, 560, 561, 565, 568, 570, 572, 576, 577, 592, 594, 595, 600, 601, 605, 607, 609, 610, 613, 614, 619, 621, 627, 630, 635, 636, 639, 641, 644, 648, 651, 653, 654, 655, 659, 661, 665, 667, 670, 675, 677, 678, 679, 680, 683, 687, 688, 690, 691, 692, 696, 700, 701, 705, 707, 708, 710, 718, 719, 723, 724, 731, 735, 737, 748, 760, 761, 762, 765, 766, 769, 778, 780, 786, 789, 791, 796, 798, 799, 801, 803, 806, 808, 809, 815, 818, 820, 827, 828, 829, 835, 838, 842, 845, 849, 850, 852, 858, 863, 864, 865, 867, 869, 871, 875, 878, 880, 882, 887, 891, 894, 895, 897, 914, 926, 931, 937, 942, 946, 953, 960, 966, 967, 968, 969, 971, 980, 981, 983, 986, 989, 993, 995, 1004, 1005, 1006, 1007, 1010, 1015, 1017, 1022, 1023, 1026, 1027, 1029, 1030, 1031, 1032, 1034, 1039, 1041, 1042, 1054, 1056, 1064, 1065, 1069, 1076, 1081, 1083, 1084, 1085, 1088, 1089, 1090, 1093, 1099, 1100, 1101, 1104, 1108, 1111, 1115, 1117, 1118, 1119, 1124, 1127, 1129, 1130, 1132, 1135, 1140, 1142, 1143, 1145, 1147, 1149, 1151, 1154, 1158, 1161, 1164, 1165, 1167, 1170, 1175, 1182, 1183, 1186, 1190, 1191, 1199, 1205]\n"
          ]
        }
      ]
    },
    {
      "cell_type": "markdown",
      "source": [
        "The size of `data` corresponds to the cardinality of our dataset.\n"
      ],
      "metadata": {
        "id": "LO0IxNlu3eIE"
      }
    },
    {
      "cell_type": "code",
      "source": [
        "print('Dataset size:', len(data))"
      ],
      "metadata": {
        "id": "JRha9l57265n",
        "colab": {
          "base_uri": "https://localhost:8080/"
        },
        "outputId": "a66b09bf-7eff-425e-9716-a6819ca86237"
      },
      "execution_count": null,
      "outputs": [
        {
          "output_type": "stream",
          "name": "stdout",
          "text": [
            "Dataset size: 353\n"
          ]
        }
      ]
    },
    {
      "cell_type": "markdown",
      "source": [
        "We compute the number of unique patient in the dataset.\n",
        "\n",
        "\n",
        "\n"
      ],
      "metadata": {
        "id": "rNKm4zKc3o_9"
      }
    },
    {
      "cell_type": "code",
      "source": [
        "unique_patient_ids = []\n",
        "\n",
        "for data_idx in data.keys():\n",
        "\n",
        "    if data_patient_ids[data_idx] not in unique_patient_ids:\n",
        "        unique_patient_ids.append(data_patient_ids[data_idx])\n",
        "\n",
        "print('Unique patient IDs:', len(unique_patient_ids))\n",
        "\n",
        "## because we might have multiple tests with the same patient, that is why the unique patients IDs are less than the dataset size!\n",
        "## it is good to also separate the data in train test not just based on the data, but also based on the patients."
      ],
      "metadata": {
        "id": "1t76pJZG31B8",
        "colab": {
          "base_uri": "https://localhost:8080/"
        },
        "outputId": "f83e62e9-95a6-441c-a0ad-6ea72901c9d7"
      },
      "execution_count": null,
      "outputs": [
        {
          "output_type": "stream",
          "name": "stdout",
          "text": [
            "Unique patient IDs: 351\n"
          ]
        }
      ]
    },
    {
      "cell_type": "markdown",
      "source": [
        "The fact that the number of unique patient IDs is lower than the number of elements denotes that some patients are associated with multiple elements."
      ],
      "metadata": {
        "id": "hkKUG9kS4eNe"
      }
    },
    {
      "cell_type": "markdown",
      "source": [
        "Each element of the database is a multivariate time series with eight components and 32 samples, describing how the physiological parameters of the patients change during the 15 minutes just before the Spontaneous Breathing Trial (SBT). In particular, the sampling period, i.e., the time interval between two consecutive samples, is 30 seconds.\n"
      ],
      "metadata": {
        "id": "hORUiBrM4qlF"
      }
    },
    {
      "cell_type": "code",
      "source": [
        "random_key = random.choice(list(data.keys()))\n",
        "variable_number, sample_number = data[random_key].shape\n",
        "print('Number of variables:', variable_number) ## different signal components\n",
        "print('Number of samples:', sample_number) ## sample times"
      ],
      "metadata": {
        "id": "n5RXmkdD4z5X",
        "colab": {
          "base_uri": "https://localhost:8080/"
        },
        "outputId": "084e8ad7-347d-4277-e5d4-5c43dc40c1df"
      },
      "execution_count": null,
      "outputs": [
        {
          "output_type": "stream",
          "name": "stdout",
          "text": [
            "Number of variables: 8\n",
            "Number of samples: 32\n"
          ]
        }
      ]
    },
    {
      "cell_type": "code",
      "source": [
        "multivariate_time_series = data[random_key]\n",
        "sampling_period = 30 # seconds - exactly the same used for the ventillator machine\n",
        "num_variables, num_samples = multivariate_time_series.shape\n",
        "time_vector = np.arange(num_samples) * sampling_period / 60\n",
        "\n",
        "variables = ['SpO2', 'PI', 'HR', 'Cdyn', 'PIP', 'fspn', 'VTe', 'WOB']\n",
        "\n",
        "plt.figure()\n",
        "for i in range(num_variables):\n",
        "  plt.plot(time_vector, multivariate_time_series[i, :], label=variables[i])\n",
        "\n",
        "plt.xlabel('Time [minute]')\n",
        "plt.ylabel('Physiological Parameter')\n",
        "plt.title(f'Time Series Plot for Key: {random_key}')\n",
        "plt.legend()\n",
        "plt.grid(True)\n",
        "plt.show()"
      ],
      "metadata": {
        "id": "mA69j0mA5ddw",
        "colab": {
          "base_uri": "https://localhost:8080/",
          "height": 472
        },
        "outputId": "faef7e7b-a91b-4fa1-85d0-a0ca76441525"
      },
      "execution_count": null,
      "outputs": [
        {
          "output_type": "display_data",
          "data": {
            "text/plain": [
              "<Figure size 640x480 with 1 Axes>"
            ],
            "image/png": "[encoded data removed]"
          },
          "metadata": {}
        }
      ]
    },
    {
      "cell_type": "markdown",
      "source": [
        "Notably, all the variables where normalized between 0 and 1 to enhance the efficiency of classification algorithms."
      ],
      "metadata": {
        "id": "oA6SSRgx6rpT"
      }
    },
    {
      "cell_type": "markdown",
      "source": [
        "The labels of the dataset have two possible outcomes:\n",
        "\n",
        "*   0 denotes that the SBT test was successful;\n",
        "*   1 denotes that the SBT test failed.\n"
      ],
      "metadata": {
        "id": "XuEmeTnk7tBR"
      }
    },
    {
      "cell_type": "code",
      "source": [
        "np.unique(list(data_labels.values()))"
      ],
      "metadata": {
        "id": "rk5smuRg8Crv",
        "colab": {
          "base_uri": "https://localhost:8080/"
        },
        "outputId": "fddb674f-9c34-4d18-8c16-897dfb596c2e"
      },
      "execution_count": null,
      "outputs": [
        {
          "output_type": "execute_result",
          "data": {
            "text/plain": [
              "array([0, 1])"
            ]
          },
          "metadata": {},
          "execution_count": 11
        }
      ]
    },
    {
      "cell_type": "markdown",
      "source": [
        "**SPLITTING THE DATA BETWEEN TRAINING AND VALIDATION**"
      ],
      "metadata": {
        "id": "HjpvP92o5F6h"
      }
    },
    {
      "cell_type": "markdown",
      "source": [
        "Before designing the classification algorithm, we divide the data into test and training sets. To do so, we ensure that the data of the same patients belong to a single subset: the data of a patient used to train the algorithm cannot be used to validate the algorithm."
      ],
      "metadata": {
        "id": "3l3VAL4S8G9V"
      }
    },
    {
      "cell_type": "code",
      "source": [
        "random.seed(42)\n",
        "\n",
        "def get_train_split(unique_patient_ids: list, data_idxs: list, data_patient_ids: dict):\n",
        "\n",
        "  train_positive_idxs = []\n",
        "  train_negative_idxs = []\n",
        "  test_positive_idxs = []\n",
        "  test_negative_idxs = []\n",
        "\n",
        "## patients are also separated as in one patient must be either in test or train and cannot be in both!\n",
        "\n",
        "  while len(test_positive_idxs) == 0 or len(test_negative_idxs) == 0:\n",
        "\n",
        "    shuffled_unique_patient_ids = copy.deepcopy(unique_patient_ids)\n",
        "\n",
        "    random.shuffle(shuffled_unique_patient_ids)\n",
        "\n",
        "    # We separate the patient IDs into test and training subset\n",
        "\n",
        "    test_patient_ids = shuffled_unique_patient_ids[:int(len(unique_patient_ids) * 0.25)]\n",
        "    train_patient_ids = shuffled_unique_patient_ids[int(len(unique_patient_ids) * 0.25):]\n",
        "    ## 25% in the test and the remaining in the training set.\n",
        "\n",
        "    # We divde also the data according with the same framework\n",
        "\n",
        "    for data_idx in data_idxs:\n",
        "\n",
        "        if data_patient_ids[data_idx] in test_patient_ids:\n",
        "\n",
        "            if data_labels[data_idx] == 1:\n",
        "                test_positive_idxs.append(data_idx)\n",
        "            else:\n",
        "                test_negative_idxs.append(data_idx)\n",
        "\n",
        "        elif data_patient_ids[data_idx] in train_patient_ids:\n",
        "\n",
        "            if data_labels[data_idx] == 1:\n",
        "                train_positive_idxs.append(data_idx)\n",
        "            else:\n",
        "                train_negative_idxs.append(data_idx)\n",
        "\n",
        "        else:\n",
        "\n",
        "            raise ValueError\n",
        "\n",
        "    train_idxs = np.concatenate((train_positive_idxs, train_negative_idxs))\n",
        "\n",
        "    test_idxs = np.concatenate((test_positive_idxs, test_negative_idxs))\n",
        "\n",
        "  return train_idxs, test_idxs"
      ],
      "metadata": {
        "id": "b1Qo_HhJ1jNE"
      },
      "execution_count": null,
      "outputs": []
    },
    {
      "cell_type": "code",
      "source": [
        "train_idxs, test_idxs = get_train_split(unique_patient_ids, data_idxs, data_patient_ids)\n",
        "\n",
        "train_size = len(train_idxs)\n",
        "test_size = len(test_idxs)\n",
        "\n",
        "print('Train size:', train_size)\n",
        "print('Test size:', test_size)"
      ],
      "metadata": {
        "id": "mbvYW2-P51ZL",
        "colab": {
          "base_uri": "https://localhost:8080/"
        },
        "outputId": "5854d88a-dd2d-40eb-8526-e9a00e99e18f"
      },
      "execution_count": null,
      "outputs": [
        {
          "output_type": "stream",
          "name": "stdout",
          "text": [
            "Train size: 265\n",
            "Test size: 88\n"
          ]
        }
      ]
    },
    {
      "cell_type": "markdown",
      "source": [
        "**AGGREGATING THE DECISIONS OF MULTIPLE CLASSIFIERS**"
      ],
      "metadata": {
        "id": "k5UqzrYIfnUv"
      }
    },
    {
      "cell_type": "markdown",
      "source": [
        "We want to design a classifier to predict the outcome of the SBT by using some features derived from the multivariate time series. To this goal, we describe the time series with a set of pre-determined, i.e., hand-crafted, features."
      ],
      "metadata": {
        "id": "juClTSmQ-c-B"
      }
    },
    {
      "cell_type": "code",
      "source": [
        "def get_features_per_variable(data: dict, variable_number: int):\n",
        "\n",
        "  data_features_per_variable = {}\n",
        "\n",
        "  for variable_index in range(variable_number):\n",
        "\n",
        "    data_features_per_variable[variable_index] = {}\n",
        "\n",
        "    for data_index in data.keys():\n",
        "\n",
        "      # Get the raw element\n",
        "\n",
        "      element = data[data_index]\n",
        "\n",
        "      element_features = []\n",
        "\n",
        "      # Get the feature\n",
        "\n",
        "    ## since the data is normalized, we expect the mean^1=mean is equal to 0.5!\n",
        "\n",
        "      element_features.append(np.mean(np.power(element[variable_index, :], 2)))\n",
        "\n",
        "      element_features.append(np.mean(np.power(element[variable_index, :], 3)))\n",
        "\n",
        "      element_features.append(np.mean(np.power(element[variable_index, :], 4)))\n",
        "\n",
        "      element_features.append(np.mean(np.power(element[variable_index, :], 5)))\n",
        "\n",
        "      data_features_per_variable[variable_index][data_index] = np.asarray(element_features)\n",
        "\n",
        "  return data_features_per_variable"
      ],
      "metadata": {
        "id": "J4APoPSNV41a"
      },
      "execution_count": null,
      "outputs": []
    },
    {
      "cell_type": "code",
      "source": [
        "data_features_per_variable = get_features_per_variable(data, variable_number) ## dictionary of dictionaries. contains 8 different dicts each associated with components of data"
      ],
      "metadata": {
        "id": "HKmmAGnh7gmD"
      },
      "execution_count": null,
      "outputs": []
    },
    {
      "cell_type": "markdown",
      "source": [
        "We define a Multi-Layer-Perception (MLP) classifier for each physiological parameter in the dataset, i.e., for each component of the multi-variate time series associated with each element of the dataset."
      ],
      "metadata": {
        "id": "P1X_nKDtcP3i"
      }
    },
    {
      "cell_type": "code",
      "source": [
        "def get_mlp_classifier_per_variable(data_features_per_variable: dict, data_labels: dict, train_idxs: list, variable_number: int):\n",
        "\n",
        "  classifier_per_variable = []\n",
        "\n",
        "  for variable_index in range(variable_number):\n",
        "\n",
        "    train_features = []\n",
        "    train_labels = []\n",
        "\n",
        "    for data_index in train_idxs:\n",
        "\n",
        "      train_features.append(data_features_per_variable[variable_index][data_index])\n",
        "      train_labels.append(data_labels[data_index])\n",
        "\n",
        "    train_features = np.asarray(train_features)\n",
        "    train_labels = np.asarray(train_labels)\n",
        "\n",
        "    clf = MLPClassifier(hidden_layer_sizes=(16,), max_iter=500).fit(train_features, train_labels)\n",
        "\n",
        "    classifier_per_variable.append(clf)\n",
        "\n",
        "  return classifier_per_variable"
      ],
      "metadata": {
        "id": "JJNrtEdRcauw"
      },
      "execution_count": null,
      "outputs": []
    },
    {
      "cell_type": "code",
      "source": [
        "classifier_per_variable = get_mlp_classifier_per_variable(data_features_per_variable, data_labels, train_idxs, variable_number)"
      ],
      "metadata": {
        "id": "ysm5PIYG7zdi"
      },
      "execution_count": null,
      "outputs": []
    },
    {
      "cell_type": "markdown",
      "source": [
        "We assess the performance of the classifiers by aggregating the decisions of each classifier and then computing the Area Under the ROC Curve (AUC) over the final decision."
      ],
      "metadata": {
        "id": "8Y6buyiknmX4"
      }
    },
    {
      "cell_type": "code",
      "source": [
        "## why auc and not just the accuracy????\n",
        "\n",
        "\n",
        "def get_auc_score_per_variable(classifier_per_variable: list, data_features_per_variable: dict, data_labels: dict, test_idxs: list, variable_number: int):\n",
        "\n",
        "  predictions_per_variable = []\n",
        "\n",
        "  test_labels = []\n",
        "  for data_index in test_idxs:\n",
        "    test_labels.append(data_labels[data_index])\n",
        "\n",
        "  test_labels = np.asarray(test_labels)\n",
        "\n",
        "  for variable_index in range(variable_number):\n",
        "\n",
        "    test_features = []\n",
        "\n",
        "    for data_index in test_idxs:\n",
        "\n",
        "      test_features.append(data_features_per_variable[variable_index][data_index])\n",
        "\n",
        "    test_features = np.asarray(test_features)\n",
        "\n",
        "    clf = classifier_per_variable[variable_index]\n",
        "\n",
        "    predictions = clf.predict_proba(test_features)[:,1]\n",
        "    predictions_per_variable.append(predictions)\n",
        "\n",
        "  mean_predictions = np.mean(predictions_per_variable, axis=0)\n",
        "\n",
        "  return sklearn.metrics.roc_auc_score(test_labels, mean_predictions)"
      ],
      "metadata": {
        "id": "-PPgG1qhohuo"
      },
      "execution_count": null,
      "outputs": []
    },
    {
      "cell_type": "code",
      "source": [
        "mean_auc = get_auc_score_per_variable(classifier_per_variable, data_features_per_variable, data_labels, test_idxs, variable_number)\n",
        "print('Mean AUC:', mean_auc)"
      ],
      "metadata": {
        "id": "SMlaoySn8X2y",
        "colab": {
          "base_uri": "https://localhost:8080/"
        },
        "outputId": "afbd9dd3-43cf-4af4-a8bc-b890ebf5649a"
      },
      "execution_count": null,
      "outputs": [
        {
          "output_type": "stream",
          "name": "stdout",
          "text": [
            "Mean AUC: 0.6138211382113822\n"
          ]
        }
      ]
    },
    {
      "cell_type": "markdown",
      "source": [
        "**IMPLEMENTING CROSS-VALIDATION**"
      ],
      "metadata": {
        "id": "FzIznJ71f5Vc"
      }
    },
    {
      "cell_type": "markdown",
      "source": [
        "To enhance the reliability of the results, we can train and validate the classifiers multiple times, each considering a different split of the data between the training and test sets and a different initialization for the classifier. In particular, we define an ad hoc method to implement such a cross-validation scheme while training the decision-aggregation classifier."
      ],
      "metadata": {
        "id": "epXU1CDJ406k"
      }
    },
    {
      "cell_type": "code",
      "source": [
        "def cross_validation_0(unique_patient_ids: list, data_idxs: list, data_patient_ids: dict,\n",
        "                       data_features_per_variable: dict, data_labels: dict, variable_number: int,\n",
        "                       iteration_number: int):\n",
        "\n",
        "  auc_distribution = []\n",
        "\n",
        "  for i in range(iteration_number):\n",
        "\n",
        "    train_idxs, test_idxs = get_train_split(unique_patient_ids, data_idxs, data_patient_ids)\n",
        "    classifier_per_variable = get_mlp_classifier_per_variable(data_features_per_variable, data_labels, train_idxs, variable_number)\n",
        "    mean_auc = get_auc_score_per_variable(classifier_per_variable, data_features_per_variable, data_labels, test_idxs, variable_number)\n",
        "\n",
        "    auc_distribution.append(mean_auc)\n",
        "\n",
        "  return auc_distribution"
      ],
      "metadata": {
        "id": "O_Q9xrsk8l6w"
      },
      "execution_count": null,
      "outputs": []
    },
    {
      "cell_type": "code",
      "source": [
        "auc_distribution_0 = cross_validation_0(unique_patient_ids, data_idxs, data_patient_ids,\n",
        "                                        data_features_per_variable, data_labels, variable_number, iteration_number=20)"
      ],
      "metadata": {
        "id": "N5N7N7599ycy"
      },
      "execution_count": null,
      "outputs": []
    },
    {
      "cell_type": "code",
      "source": [
        "plot_boxplot([auc_distribution_0],\n",
        "             ['Mean Decision'],\n",
        "             'AUC',\n",
        "             'Model')\n",
        "plt.show()"
      ],
      "metadata": {
        "id": "50OgB_rt_1Vz",
        "colab": {
          "base_uri": "https://localhost:8080/",
          "height": 487
        },
        "outputId": "f1f38288-39d7-4496-d365-565a2fac93ea"
      },
      "execution_count": null,
      "outputs": [
        {
          "output_type": "display_data",
          "data": {
            "text/plain": [
              "<Figure size 640x480 with 1 Axes>"
            ],
            "image/png": "[encoded data removed]"
          },
          "metadata": {}
        }
      ]
    },
    {
      "cell_type": "markdown",
      "source": [
        "**AGGREGATING THE FEATURES OF MULTIPLE SIGNALS**"
      ],
      "metadata": {
        "id": "WGlSGrvSf_aV"
      }
    },
    {
      "cell_type": "markdown",
      "source": [
        "To try to improve performance, we define a unique classifier that aggregates all the available features, instead of deciding by considering one signal component at a time."
      ],
      "metadata": {
        "id": "j1I_jtfopXDd"
      }
    },
    {
      "cell_type": "code",
      "source": [
        "multivariate_features = {}\n",
        "\n",
        "for data_index in data_idxs:\n",
        "\n",
        "  element_features = []\n",
        "\n",
        "  for variable_index in range(variable_number):\n",
        "\n",
        "    element_features.append(data_features_per_variable[variable_index][data_index])\n",
        "\n",
        "  multivariate_features[data_index] = np.concatenate(element_features)"
      ],
      "metadata": {
        "id": "pQR-h_qN0g1e"
      },
      "execution_count": null,
      "outputs": []
    },
    {
      "cell_type": "markdown",
      "source": [
        "We define an ad hoc method to implement cross-validation for training the feature-aggregation classifier."
      ],
      "metadata": {
        "id": "tqM7leKGa71i"
      }
    },
    {
      "cell_type": "code",
      "source": [
        "def cross_validation_1(unique_patient_ids: list, data_idxs: list, data_patient_ids: dict,\n",
        "                       multivariate_features: dict, data_labels: dict, iteration_number: int):\n",
        "\n",
        "  auc_distribution = []\n",
        "\n",
        "  for i in range(iteration_number):\n",
        "\n",
        "    train_idxs, test_idxs = get_train_split(unique_patient_ids, data_idxs, data_patient_ids)\n",
        "\n",
        "    train_features = []\n",
        "    train_labels = []\n",
        "\n",
        "    for data_index in train_idxs:\n",
        "\n",
        "      train_features.append(multivariate_features[data_index])\n",
        "      train_labels.append(data_labels[data_index])\n",
        "\n",
        "    test_features = []\n",
        "    test_labels = []\n",
        "\n",
        "    for data_index in test_idxs:\n",
        "\n",
        "      test_features.append(multivariate_features[data_index])\n",
        "      test_labels.append(data_labels[data_index])\n",
        "\n",
        "    clf = MLPClassifier(hidden_layer_sizes=(64,), max_iter=500).fit(train_features, train_labels)\n",
        "\n",
        "    predictions = clf.predict_proba(test_features)[:,1]\n",
        "\n",
        "    auc_distribution.append(sklearn.metrics.roc_auc_score(test_labels, predictions))\n",
        "\n",
        "  return auc_distribution\n",
        "\n",
        "\n",
        "## here we have single classifier and not 8 different classifiers"
      ],
      "metadata": {
        "id": "pt7TwFOOAD4X"
      },
      "execution_count": null,
      "outputs": []
    },
    {
      "cell_type": "code",
      "source": [
        "auc_distribution_1 = cross_validation_1(unique_patient_ids, data_idxs, data_patient_ids,\n",
        "                                        multivariate_features, data_labels, iteration_number = 20)"
      ],
      "metadata": {
        "id": "HlkgzuUl4Gz9"
      },
      "execution_count": null,
      "outputs": []
    },
    {
      "cell_type": "markdown",
      "source": [
        "We compare the performance obtained while using the decision-aggregation framework against the feature-aggregation framework."
      ],
      "metadata": {
        "id": "VurV7OY4fVu5"
      }
    },
    {
      "cell_type": "code",
      "source": [
        "plot_boxplot([auc_distribution_0, auc_distribution_1],\n",
        "             ['Decision-aggregation', 'Feature-aggregation'],\n",
        "             'Variable',\n",
        "             'AUC')\n",
        "plt.show()"
      ],
      "metadata": {
        "id": "xb9b2BGhScg1",
        "colab": {
          "base_uri": "https://localhost:8080/",
          "height": 487
        },
        "outputId": "90068679-7d71-4dd9-ce8d-07410cb2c98d"
      },
      "execution_count": null,
      "outputs": [
        {
          "output_type": "display_data",
          "data": {
            "text/plain": [
              "<Figure size 640x480 with 1 Axes>"
            ],
            "image/png": "[encoded data removed]"
          },
          "metadata": {}
        }
      ]
    },
    {
      "cell_type": "markdown",
      "source": [
        "We have designed two different classification architectures: the first exploits a decision-level aggregation, while the second exploits a feature-level aggregation. Both solutions have the drawback of exploiting hand-crafted features that may not be suitable for describing the signals and may lead to the best classification results.\n",
        "\n",
        "In the following, you are asked to design a third classifier that processes directly the multivariate signals associated with each patient via a learning model based on a 1D convolutional neural network. To this goal, you need to associate each signal component with a different channel and design a 1-D convolutional kernel that operates over the time domain."
      ],
      "metadata": {
        "id": "GRUmcP4DkcQE"
      }
    },
    {
      "cell_type": "markdown",
      "source": [
        "We first import some Python libraries that allow us to work with neural networks."
      ],
      "metadata": {
        "id": "aojjcmhumuuz"
      }
    },
    {
      "cell_type": "code",
      "source": [
        "import tensorflow as tf\n",
        "from tensorflow import keras\n",
        "from tensorflow.keras.models import Sequential\n",
        "from tensorflow.keras.layers import Conv1D, Flatten, Dense\n",
        "from tensorflow.keras.optimizers import Adam"
      ],
      "metadata": {
        "id": "F4W9XhGTm21p"
      },
      "execution_count": null,
      "outputs": []
    },
    {
      "cell_type": "markdown",
      "source": [
        "To define the convolutional network, you can implement the content of the following method. In particular, you can use the object `Sequential` from `Keras` as a container of multiple layers.\n",
        "\n",
        "*  The first layers are used for feature extraction and must implement the 1-D convolution operations.\n",
        "*  The last layers are used for carrying out the classification task and can be standard dense layers.\n",
        "*  The last neuron of the network must be followed by a sigmoid function that returns a value in [0, 1]."
      ],
      "metadata": {
        "id": "zwRXcG5aoBap"
      }
    },
    {
      "cell_type": "code",
      "source": [
        "def get_model(input_shape: tuple):\n",
        "\n",
        "  # The variable input_shape define the dimensions of the data\n",
        "\n",
        "  model = Sequential()\n",
        "\n",
        "  # YOUR CODE\n",
        "\n",
        "  # Feature Extraction Layers (1D Convolutions)\n",
        "  model.add(Conv1D(filters=64, kernel_size=3, strides=1, padding='same', activation='relu', input_shape=input_shape))\n",
        "  model.add(Conv1D(filters=128, kernel_size=3, strides=1, padding='same', activation='relu'))\n",
        "  # Add more Conv1D layers as needed (experiment!)\n",
        "  model.add(Conv1D(filters=128, kernel_size=3, strides=1, padding='same', activation='relu'))\n",
        "  model.add(Conv1D(filters=64, kernel_size=3, strides=1, padding='same', activation='relu'))\n",
        "\n",
        "  # Flatten the output before the Dense layers\n",
        "  model.add(Flatten())\n",
        "\n",
        "  # Classification Layers (Dense)\n",
        "  model.add(Dense(units=128, activation='relu')) # Experiment with the number of units\n",
        "  model.add(Dense(units=1, activation='sigmoid'))  # Output layer for binary classification\n",
        "\n",
        "  ## model.append(...)\n",
        "\n",
        "  model.compile(optimizer=Adam(learning_rate=0.001),\n",
        "                loss='binary_crossentropy',\n",
        "                metrics=['accuracy'])\n",
        "\n",
        "  return model"
      ],
      "metadata": {
        "id": "pnKk9NOxgNtC"
      },
      "execution_count": null,
      "outputs": []
    },
    {
      "cell_type": "markdown",
      "source": [
        "To train and validate the new classifier, you can extend the following method. As done before, you must adopt a cross-validation approach to obtain multiple AUC values and, thus, improve the reliability of the results."
      ],
      "metadata": {
        "id": "GpTXLajcxWLj"
      }
    },
    {
      "cell_type": "code",
      "source": [
        "def cross_validation_2(unique_patient_ids: list, data_idxs: list, data_patient_ids: dict,\n",
        "                       data: dict, data_labels: dict, iteration_number: int):\n",
        "\n",
        "  auc_distribution = []\n",
        "\n",
        "  for i in range(iteration_number):\n",
        "\n",
        "    train_idxs, test_idxs = get_train_split(unique_patient_ids, data_idxs, data_patient_ids)\n",
        "\n",
        "    train_data = []\n",
        "    train_labels = []\n",
        "\n",
        "    for data_index in train_idxs:\n",
        "\n",
        "      train_data.append(data[data_index].T)\n",
        "      train_labels.append(data_labels[data_index])\n",
        "\n",
        "    train_data = np.asarray(train_data)\n",
        "    train_labels = np.asarray(train_labels)\n",
        "\n",
        "    test_data = []\n",
        "    test_labels = []\n",
        "\n",
        "    for data_index in test_idxs:\n",
        "\n",
        "      test_data.append(data[data_index].T)\n",
        "      test_labels.append(data_labels[data_index])\n",
        "\n",
        "    test_data = np.asarray(test_data)\n",
        "    test_labels = np.asarray(test_labels)\n",
        "\n",
        "    sample_number = 32\n",
        "    channel_number = 8\n",
        "\n",
        "    model = get_model((sample_number, channel_number))\n",
        "\n",
        "    # YOUR CODE\n",
        "\n",
        "    # Train the model over the train data\n",
        "\n",
        "    model.fit(train_data, train_labels, epochs=10, batch_size=32, verbose=0)  # Added training parameters\n",
        "\n",
        "    # Get the predictions from the test data\n",
        "\n",
        "    y_pred = model.predict(test_data)\n",
        "    y_pred_binary = (y_pred > 0.5).astype(int) # Convert probabilities to binary (0 or 1)\n",
        "\n",
        "\n",
        "    # Calculate the AUC score\n",
        "\n",
        "    auc_score = roc_auc_score(test_labels, y_pred) # Use the probability estimates, not the binary predictions\n",
        "\n",
        "\n",
        "    auc_distribution.append(auc_score)\n",
        "\n",
        "  return auc_distribution"
      ],
      "metadata": {
        "id": "ifEzWXY-ocX2"
      },
      "execution_count": null,
      "outputs": []
    },
    {
      "cell_type": "code",
      "source": [
        "auc_distribution_2 = cross_validation_2(unique_patient_ids, data_idxs, data_patient_ids, data, data_labels, iteration_number=30)"
      ],
      "metadata": {
        "id": "UA2Q7FPBrLq9",
        "colab": {
          "base_uri": "https://localhost:8080/"
        },
        "outputId": "a7534626-bbcc-4797-caf5-5a063c8a6d38"
      },
      "execution_count": null,
      "outputs": [
        {
          "output_type": "stream",
          "name": "stderr",
          "text": [
            "/usr/local/lib/python3.11/dist-packages/keras/src/layers/convolutional/base_conv.py:107: UserWarning: Do not pass an `input_shape`/`input_dim` argument to a layer. When using Sequential models, prefer using an `Input(shape)` object as the first layer in the model instead.\n",
            "  super().__init__(activity_regularizer=activity_regularizer, **kwargs)\n"
          ]
        },
        {
          "output_type": "stream",
          "name": "stdout",
          "text": [
            "\u001b[1m3/3\u001b[0m \u001b[32m━━━━━━━━━━━━━━━━━━━━\u001b[0m\u001b[37m\u001b[0m \u001b[1m0s\u001b[0m 63ms/step\n"
          ]
        },
        {
          "output_type": "stream",
          "name": "stderr",
          "text": [
            "/usr/local/lib/python3.11/dist-packages/keras/src/layers/convolutional/base_conv.py:107: UserWarning: Do not pass an `input_shape`/`input_dim` argument to a layer. When using Sequential models, prefer using an `Input(shape)` object as the first layer in the model instead.\n",
            "  super().__init__(activity_regularizer=activity_regularizer, **kwargs)\n"
          ]
        },
        {
          "output_type": "stream",
          "name": "stdout",
          "text": [
            "\u001b[1m3/3\u001b[0m \u001b[32m━━━━━━━━━━━━━━━━━━━━\u001b[0m\u001b[37m\u001b[0m \u001b[1m0s\u001b[0m 57ms/step\n"
          ]
        },
        {
          "output_type": "stream",
          "name": "stderr",
          "text": [
            "/usr/local/lib/python3.11/dist-packages/keras/src/layers/convolutional/base_conv.py:107: UserWarning: Do not pass an `input_shape`/`input_dim` argument to a layer. When using Sequential models, prefer using an `Input(shape)` object as the first layer in the model instead.\n",
            "  super().__init__(activity_regularizer=activity_regularizer, **kwargs)\n",
            "WARNING:tensorflow:5 out of the last 7 calls to <function TensorFlowTrainer.make_predict_function.<locals>.one_step_on_data_distributed at 0x78d620d851c0> triggered tf.function retracing. Tracing is expensive and the excessive number of tracings could be due to (1) creating @tf.function repeatedly in a loop, (2) passing tensors with different shapes, (3) passing Python objects instead of tensors. For (1), please define your @tf.function outside of the loop. For (2), @tf.function has reduce_retracing=True option that can avoid unnecessary retracing. For (3), please refer to https://www.tensorflow.org/guide/function#controlling_retracing and https://www.tensorflow.org/api_docs/python/tf/function for  more details.\n"
          ]
        },
        {
          "output_type": "stream",
          "name": "stdout",
          "text": [
            "\r\u001b[1m1/3\u001b[0m \u001b[32m━━━━━━\u001b[0m\u001b[37m━━━━━━━━━━━━━━\u001b[0m \u001b[1m0s\u001b[0m 107ms/step"
          ]
        },
        {
          "output_type": "stream",
          "name": "stderr",
          "text": [
            "WARNING:tensorflow:6 out of the last 9 calls to <function TensorFlowTrainer.make_predict_function.<locals>.one_step_on_data_distributed at 0x78d620d851c0> triggered tf.function retracing. Tracing is expensive and the excessive number of tracings could be due to (1) creating @tf.function repeatedly in a loop, (2) passing tensors with different shapes, (3) passing Python objects instead of tensors. For (1), please define your @tf.function outside of the loop. For (2), @tf.function has reduce_retracing=True option that can avoid unnecessary retracing. For (3), please refer to https://www.tensorflow.org/guide/function#controlling_retracing and https://www.tensorflow.org/api_docs/python/tf/function for  more details.\n"
          ]
        },
        {
          "output_type": "stream",
          "name": "stdout",
          "text": [
            "\u001b[1m3/3\u001b[0m \u001b[32m━━━━━━━━━━━━━━━━━━━━\u001b[0m\u001b[37m\u001b[0m \u001b[1m0s\u001b[0m 59ms/step\n"
          ]
        },
        {
          "output_type": "stream",
          "name": "stderr",
          "text": [
            "/usr/local/lib/python3.11/dist-packages/keras/src/layers/convolutional/base_conv.py:107: UserWarning: Do not pass an `input_shape`/`input_dim` argument to a layer. When using Sequential models, prefer using an `Input(shape)` object as the first layer in the model instead.\n",
            "  super().__init__(activity_regularizer=activity_regularizer, **kwargs)\n"
          ]
        },
        {
          "output_type": "stream",
          "name": "stdout",
          "text": [
            "\u001b[1m3/3\u001b[0m \u001b[32m━━━━━━━━━━━━━━━━━━━━\u001b[0m\u001b[37m\u001b[0m \u001b[1m1s\u001b[0m 243ms/step\n"
          ]
        },
        {
          "output_type": "stream",
          "name": "stderr",
          "text": [
            "/usr/local/lib/python3.11/dist-packages/keras/src/layers/convolutional/base_conv.py:107: UserWarning: Do not pass an `input_shape`/`input_dim` argument to a layer. When using Sequential models, prefer using an `Input(shape)` object as the first layer in the model instead.\n",
            "  super().__init__(activity_regularizer=activity_regularizer, **kwargs)\n"
          ]
        },
        {
          "output_type": "stream",
          "name": "stdout",
          "text": [
            "\u001b[1m3/3\u001b[0m \u001b[32m━━━━━━━━━━━━━━━━━━━━\u001b[0m\u001b[37m\u001b[0m \u001b[1m0s\u001b[0m 57ms/step\n"
          ]
        },
        {
          "output_type": "stream",
          "name": "stderr",
          "text": [
            "/usr/local/lib/python3.11/dist-packages/keras/src/layers/convolutional/base_conv.py:107: UserWarning: Do not pass an `input_shape`/`input_dim` argument to a layer. When using Sequential models, prefer using an `Input(shape)` object as the first layer in the model instead.\n",
            "  super().__init__(activity_regularizer=activity_regularizer, **kwargs)\n"
          ]
        },
        {
          "output_type": "stream",
          "name": "stdout",
          "text": [
            "\u001b[1m3/3\u001b[0m \u001b[32m━━━━━━━━━━━━━━━━━━━━\u001b[0m\u001b[37m\u001b[0m \u001b[1m0s\u001b[0m 88ms/step\n"
          ]
        },
        {
          "output_type": "stream",
          "name": "stderr",
          "text": [
            "/usr/local/lib/python3.11/dist-packages/keras/src/layers/convolutional/base_conv.py:107: UserWarning: Do not pass an `input_shape`/`input_dim` argument to a layer. When using Sequential models, prefer using an `Input(shape)` object as the first layer in the model instead.\n",
            "  super().__init__(activity_regularizer=activity_regularizer, **kwargs)\n"
          ]
        },
        {
          "output_type": "stream",
          "name": "stdout",
          "text": [
            "\u001b[1m3/3\u001b[0m \u001b[32m━━━━━━━━━━━━━━━━━━━━\u001b[0m\u001b[37m\u001b[0m \u001b[1m0s\u001b[0m 57ms/step\n"
          ]
        },
        {
          "output_type": "stream",
          "name": "stderr",
          "text": [
            "/usr/local/lib/python3.11/dist-packages/keras/src/layers/convolutional/base_conv.py:107: UserWarning: Do not pass an `input_shape`/`input_dim` argument to a layer. When using Sequential models, prefer using an `Input(shape)` object as the first layer in the model instead.\n",
            "  super().__init__(activity_regularizer=activity_regularizer, **kwargs)\n"
          ]
        },
        {
          "output_type": "stream",
          "name": "stdout",
          "text": [
            "\u001b[1m6/6\u001b[0m \u001b[32m━━━━━━━━━━━━━━━━━━━━\u001b[0m\u001b[37m\u001b[0m \u001b[1m0s\u001b[0m 27ms/step\n"
          ]
        },
        {
          "output_type": "stream",
          "name": "stderr",
          "text": [
            "/usr/local/lib/python3.11/dist-packages/keras/src/layers/convolutional/base_conv.py:107: UserWarning: Do not pass an `input_shape`/`input_dim` argument to a layer. When using Sequential models, prefer using an `Input(shape)` object as the first layer in the model instead.\n",
            "  super().__init__(activity_regularizer=activity_regularizer, **kwargs)\n"
          ]
        },
        {
          "output_type": "stream",
          "name": "stdout",
          "text": [
            "\u001b[1m3/3\u001b[0m \u001b[32m━━━━━━━━━━━━━━━━━━━━\u001b[0m\u001b[37m\u001b[0m \u001b[1m0s\u001b[0m 59ms/step\n"
          ]
        },
        {
          "output_type": "stream",
          "name": "stderr",
          "text": [
            "/usr/local/lib/python3.11/dist-packages/keras/src/layers/convolutional/base_conv.py:107: UserWarning: Do not pass an `input_shape`/`input_dim` argument to a layer. When using Sequential models, prefer using an `Input(shape)` object as the first layer in the model instead.\n",
            "  super().__init__(activity_regularizer=activity_regularizer, **kwargs)\n"
          ]
        },
        {
          "output_type": "stream",
          "name": "stdout",
          "text": [
            "\u001b[1m3/3\u001b[0m \u001b[32m━━━━━━━━━━━━━━━━━━━━\u001b[0m\u001b[37m\u001b[0m \u001b[1m0s\u001b[0m 61ms/step\n"
          ]
        },
        {
          "output_type": "stream",
          "name": "stderr",
          "text": [
            "/usr/local/lib/python3.11/dist-packages/keras/src/layers/convolutional/base_conv.py:107: UserWarning: Do not pass an `input_shape`/`input_dim` argument to a layer. When using Sequential models, prefer using an `Input(shape)` object as the first layer in the model instead.\n",
            "  super().__init__(activity_regularizer=activity_regularizer, **kwargs)\n"
          ]
        },
        {
          "output_type": "stream",
          "name": "stdout",
          "text": [
            "\u001b[1m3/3\u001b[0m \u001b[32m━━━━━━━━━━━━━━━━━━━━\u001b[0m\u001b[37m\u001b[0m \u001b[1m0s\u001b[0m 57ms/step\n"
          ]
        },
        {
          "output_type": "stream",
          "name": "stderr",
          "text": [
            "/usr/local/lib/python3.11/dist-packages/keras/src/layers/convolutional/base_conv.py:107: UserWarning: Do not pass an `input_shape`/`input_dim` argument to a layer. When using Sequential models, prefer using an `Input(shape)` object as the first layer in the model instead.\n",
            "  super().__init__(activity_regularizer=activity_regularizer, **kwargs)\n"
          ]
        },
        {
          "output_type": "stream",
          "name": "stdout",
          "text": [
            "\u001b[1m3/3\u001b[0m \u001b[32m━━━━━━━━━━━━━━━━━━━━\u001b[0m\u001b[37m\u001b[0m \u001b[1m0s\u001b[0m 56ms/step\n"
          ]
        },
        {
          "output_type": "stream",
          "name": "stderr",
          "text": [
            "/usr/local/lib/python3.11/dist-packages/keras/src/layers/convolutional/base_conv.py:107: UserWarning: Do not pass an `input_shape`/`input_dim` argument to a layer. When using Sequential models, prefer using an `Input(shape)` object as the first layer in the model instead.\n",
            "  super().__init__(activity_regularizer=activity_regularizer, **kwargs)\n"
          ]
        },
        {
          "output_type": "stream",
          "name": "stdout",
          "text": [
            "\u001b[1m3/3\u001b[0m \u001b[32m━━━━━━━━━━━━━━━━━━━━\u001b[0m\u001b[37m\u001b[0m \u001b[1m0s\u001b[0m 64ms/step\n"
          ]
        },
        {
          "output_type": "stream",
          "name": "stderr",
          "text": [
            "/usr/local/lib/python3.11/dist-packages/keras/src/layers/convolutional/base_conv.py:107: UserWarning: Do not pass an `input_shape`/`input_dim` argument to a layer. When using Sequential models, prefer using an `Input(shape)` object as the first layer in the model instead.\n",
            "  super().__init__(activity_regularizer=activity_regularizer, **kwargs)\n"
          ]
        },
        {
          "output_type": "stream",
          "name": "stdout",
          "text": [
            "\u001b[1m3/3\u001b[0m \u001b[32m━━━━━━━━━━━━━━━━━━━━\u001b[0m\u001b[37m\u001b[0m \u001b[1m0s\u001b[0m 58ms/step\n"
          ]
        },
        {
          "output_type": "stream",
          "name": "stderr",
          "text": [
            "/usr/local/lib/python3.11/dist-packages/keras/src/layers/convolutional/base_conv.py:107: UserWarning: Do not pass an `input_shape`/`input_dim` argument to a layer. When using Sequential models, prefer using an `Input(shape)` object as the first layer in the model instead.\n",
            "  super().__init__(activity_regularizer=activity_regularizer, **kwargs)\n"
          ]
        },
        {
          "output_type": "stream",
          "name": "stdout",
          "text": [
            "\u001b[1m3/3\u001b[0m \u001b[32m━━━━━━━━━━━━━━━━━━━━\u001b[0m\u001b[37m\u001b[0m \u001b[1m0s\u001b[0m 56ms/step\n"
          ]
        },
        {
          "output_type": "stream",
          "name": "stderr",
          "text": [
            "/usr/local/lib/python3.11/dist-packages/keras/src/layers/convolutional/base_conv.py:107: UserWarning: Do not pass an `input_shape`/`input_dim` argument to a layer. When using Sequential models, prefer using an `Input(shape)` object as the first layer in the model instead.\n",
            "  super().__init__(activity_regularizer=activity_regularizer, **kwargs)\n"
          ]
        },
        {
          "output_type": "stream",
          "name": "stdout",
          "text": [
            "\u001b[1m3/3\u001b[0m \u001b[32m━━━━━━━━━━━━━━━━━━━━\u001b[0m\u001b[37m\u001b[0m \u001b[1m0s\u001b[0m 64ms/step\n"
          ]
        },
        {
          "output_type": "stream",
          "name": "stderr",
          "text": [
            "/usr/local/lib/python3.11/dist-packages/keras/src/layers/convolutional/base_conv.py:107: UserWarning: Do not pass an `input_shape`/`input_dim` argument to a layer. When using Sequential models, prefer using an `Input(shape)` object as the first layer in the model instead.\n",
            "  super().__init__(activity_regularizer=activity_regularizer, **kwargs)\n"
          ]
        },
        {
          "output_type": "stream",
          "name": "stdout",
          "text": [
            "\u001b[1m3/3\u001b[0m \u001b[32m━━━━━━━━━━━━━━━━━━━━\u001b[0m\u001b[37m\u001b[0m \u001b[1m0s\u001b[0m 66ms/step\n"
          ]
        },
        {
          "output_type": "stream",
          "name": "stderr",
          "text": [
            "/usr/local/lib/python3.11/dist-packages/keras/src/layers/convolutional/base_conv.py:107: UserWarning: Do not pass an `input_shape`/`input_dim` argument to a layer. When using Sequential models, prefer using an `Input(shape)` object as the first layer in the model instead.\n",
            "  super().__init__(activity_regularizer=activity_regularizer, **kwargs)\n"
          ]
        },
        {
          "output_type": "stream",
          "name": "stdout",
          "text": [
            "\u001b[1m3/3\u001b[0m \u001b[32m━━━━━━━━━━━━━━━━━━━━\u001b[0m\u001b[37m\u001b[0m \u001b[1m0s\u001b[0m 66ms/step\n"
          ]
        },
        {
          "output_type": "stream",
          "name": "stderr",
          "text": [
            "/usr/local/lib/python3.11/dist-packages/keras/src/layers/convolutional/base_conv.py:107: UserWarning: Do not pass an `input_shape`/`input_dim` argument to a layer. When using Sequential models, prefer using an `Input(shape)` object as the first layer in the model instead.\n",
            "  super().__init__(activity_regularizer=activity_regularizer, **kwargs)\n"
          ]
        },
        {
          "output_type": "stream",
          "name": "stdout",
          "text": [
            "\u001b[1m3/3\u001b[0m \u001b[32m━━━━━━━━━━━━━━━━━━━━\u001b[0m\u001b[37m\u001b[0m \u001b[1m0s\u001b[0m 59ms/step\n"
          ]
        },
        {
          "output_type": "stream",
          "name": "stderr",
          "text": [
            "/usr/local/lib/python3.11/dist-packages/keras/src/layers/convolutional/base_conv.py:107: UserWarning: Do not pass an `input_shape`/`input_dim` argument to a layer. When using Sequential models, prefer using an `Input(shape)` object as the first layer in the model instead.\n",
            "  super().__init__(activity_regularizer=activity_regularizer, **kwargs)\n"
          ]
        },
        {
          "output_type": "stream",
          "name": "stdout",
          "text": [
            "\u001b[1m3/3\u001b[0m \u001b[32m━━━━━━━━━━━━━━━━━━━━\u001b[0m\u001b[37m\u001b[0m \u001b[1m0s\u001b[0m 60ms/step\n"
          ]
        },
        {
          "output_type": "stream",
          "name": "stderr",
          "text": [
            "/usr/local/lib/python3.11/dist-packages/keras/src/layers/convolutional/base_conv.py:107: UserWarning: Do not pass an `input_shape`/`input_dim` argument to a layer. When using Sequential models, prefer using an `Input(shape)` object as the first layer in the model instead.\n",
            "  super().__init__(activity_regularizer=activity_regularizer, **kwargs)\n"
          ]
        },
        {
          "output_type": "stream",
          "name": "stdout",
          "text": [
            "\u001b[1m3/3\u001b[0m \u001b[32m━━━━━━━━━━━━━━━━━━━━\u001b[0m\u001b[37m\u001b[0m \u001b[1m0s\u001b[0m 61ms/step\n"
          ]
        },
        {
          "output_type": "stream",
          "name": "stderr",
          "text": [
            "/usr/local/lib/python3.11/dist-packages/keras/src/layers/convolutional/base_conv.py:107: UserWarning: Do not pass an `input_shape`/`input_dim` argument to a layer. When using Sequential models, prefer using an `Input(shape)` object as the first layer in the model instead.\n",
            "  super().__init__(activity_regularizer=activity_regularizer, **kwargs)\n"
          ]
        },
        {
          "output_type": "stream",
          "name": "stdout",
          "text": [
            "\u001b[1m3/3\u001b[0m \u001b[32m━━━━━━━━━━━━━━━━━━━━\u001b[0m\u001b[37m\u001b[0m \u001b[1m0s\u001b[0m 60ms/step\n"
          ]
        },
        {
          "output_type": "stream",
          "name": "stderr",
          "text": [
            "/usr/local/lib/python3.11/dist-packages/keras/src/layers/convolutional/base_conv.py:107: UserWarning: Do not pass an `input_shape`/`input_dim` argument to a layer. When using Sequential models, prefer using an `Input(shape)` object as the first layer in the model instead.\n",
            "  super().__init__(activity_regularizer=activity_regularizer, **kwargs)\n"
          ]
        },
        {
          "output_type": "stream",
          "name": "stdout",
          "text": [
            "\u001b[1m3/3\u001b[0m \u001b[32m━━━━━━━━━━━━━━━━━━━━\u001b[0m\u001b[37m\u001b[0m \u001b[1m0s\u001b[0m 63ms/step\n"
          ]
        },
        {
          "output_type": "stream",
          "name": "stderr",
          "text": [
            "/usr/local/lib/python3.11/dist-packages/keras/src/layers/convolutional/base_conv.py:107: UserWarning: Do not pass an `input_shape`/`input_dim` argument to a layer. When using Sequential models, prefer using an `Input(shape)` object as the first layer in the model instead.\n",
            "  super().__init__(activity_regularizer=activity_regularizer, **kwargs)\n"
          ]
        },
        {
          "output_type": "stream",
          "name": "stdout",
          "text": [
            "\u001b[1m3/3\u001b[0m \u001b[32m━━━━━━━━━━━━━━━━━━━━\u001b[0m\u001b[37m\u001b[0m \u001b[1m0s\u001b[0m 58ms/step\n"
          ]
        },
        {
          "output_type": "stream",
          "name": "stderr",
          "text": [
            "/usr/local/lib/python3.11/dist-packages/keras/src/layers/convolutional/base_conv.py:107: UserWarning: Do not pass an `input_shape`/`input_dim` argument to a layer. When using Sequential models, prefer using an `Input(shape)` object as the first layer in the model instead.\n",
            "  super().__init__(activity_regularizer=activity_regularizer, **kwargs)\n"
          ]
        },
        {
          "output_type": "stream",
          "name": "stdout",
          "text": [
            "\u001b[1m3/3\u001b[0m \u001b[32m━━━━━━━━━━━━━━━━━━━━\u001b[0m\u001b[37m\u001b[0m \u001b[1m0s\u001b[0m 59ms/step\n"
          ]
        },
        {
          "output_type": "stream",
          "name": "stderr",
          "text": [
            "/usr/local/lib/python3.11/dist-packages/keras/src/layers/convolutional/base_conv.py:107: UserWarning: Do not pass an `input_shape`/`input_dim` argument to a layer. When using Sequential models, prefer using an `Input(shape)` object as the first layer in the model instead.\n",
            "  super().__init__(activity_regularizer=activity_regularizer, **kwargs)\n"
          ]
        },
        {
          "output_type": "stream",
          "name": "stdout",
          "text": [
            "\u001b[1m3/3\u001b[0m \u001b[32m━━━━━━━━━━━━━━━━━━━━\u001b[0m\u001b[37m\u001b[0m \u001b[1m0s\u001b[0m 59ms/step\n"
          ]
        },
        {
          "output_type": "stream",
          "name": "stderr",
          "text": [
            "/usr/local/lib/python3.11/dist-packages/keras/src/layers/convolutional/base_conv.py:107: UserWarning: Do not pass an `input_shape`/`input_dim` argument to a layer. When using Sequential models, prefer using an `Input(shape)` object as the first layer in the model instead.\n",
            "  super().__init__(activity_regularizer=activity_regularizer, **kwargs)\n"
          ]
        },
        {
          "output_type": "stream",
          "name": "stdout",
          "text": [
            "\u001b[1m3/3\u001b[0m \u001b[32m━━━━━━━━━━━━━━━━━━━━\u001b[0m\u001b[37m\u001b[0m \u001b[1m0s\u001b[0m 64ms/step\n"
          ]
        },
        {
          "output_type": "stream",
          "name": "stderr",
          "text": [
            "/usr/local/lib/python3.11/dist-packages/keras/src/layers/convolutional/base_conv.py:107: UserWarning: Do not pass an `input_shape`/`input_dim` argument to a layer. When using Sequential models, prefer using an `Input(shape)` object as the first layer in the model instead.\n",
            "  super().__init__(activity_regularizer=activity_regularizer, **kwargs)\n"
          ]
        },
        {
          "output_type": "stream",
          "name": "stdout",
          "text": [
            "\u001b[1m3/3\u001b[0m \u001b[32m━━━━━━━━━━━━━━━━━━━━\u001b[0m\u001b[37m\u001b[0m \u001b[1m0s\u001b[0m 59ms/step\n"
          ]
        },
        {
          "output_type": "stream",
          "name": "stderr",
          "text": [
            "/usr/local/lib/python3.11/dist-packages/keras/src/layers/convolutional/base_conv.py:107: UserWarning: Do not pass an `input_shape`/`input_dim` argument to a layer. When using Sequential models, prefer using an `Input(shape)` object as the first layer in the model instead.\n",
            "  super().__init__(activity_regularizer=activity_regularizer, **kwargs)\n"
          ]
        },
        {
          "output_type": "stream",
          "name": "stdout",
          "text": [
            "\u001b[1m3/3\u001b[0m \u001b[32m━━━━━━━━━━━━━━━━━━━━\u001b[0m\u001b[37m\u001b[0m \u001b[1m0s\u001b[0m 58ms/step\n"
          ]
        },
        {
          "output_type": "stream",
          "name": "stderr",
          "text": [
            "/usr/local/lib/python3.11/dist-packages/keras/src/layers/convolutional/base_conv.py:107: UserWarning: Do not pass an `input_shape`/`input_dim` argument to a layer. When using Sequential models, prefer using an `Input(shape)` object as the first layer in the model instead.\n",
            "  super().__init__(activity_regularizer=activity_regularizer, **kwargs)\n"
          ]
        },
        {
          "output_type": "stream",
          "name": "stdout",
          "text": [
            "\u001b[1m3/3\u001b[0m \u001b[32m━━━━━━━━━━━━━━━━━━━━\u001b[0m\u001b[37m\u001b[0m \u001b[1m0s\u001b[0m 65ms/step\n"
          ]
        }
      ]
    },
    {
      "cell_type": "code",
      "source": [
        "plot_boxplot([auc_distribution_0, auc_distribution_1, auc_distribution_2],\n",
        "             ['Decision-aggregation', 'Feature-aggregation', 'Data-aggregation'],\n",
        "             'Variable',\n",
        "             'AUC')\n",
        "plt.show()"
      ],
      "metadata": {
        "id": "4GSJaXn7plqK",
        "colab": {
          "base_uri": "https://localhost:8080/",
          "height": 487
        },
        "outputId": "68363967-076d-44ac-821c-9120ec7a7308"
      },
      "execution_count": null,
      "outputs": [
        {
          "output_type": "display_data",
          "data": {
            "text/plain": [
              "<Figure size 640x480 with 1 Axes>"
            ],
            "image/png": "[encoded data removed]"
          },
          "metadata": {}
        }
      ]
    },
    {
      "cell_type": "code",
      "source": [
        "print(np.mean(auc_distribution_2))"
      ],
      "metadata": {
        "colab": {
          "base_uri": "https://localhost:8080/"
        },
        "id": "SrpJWLmPAq-q",
        "outputId": "450f86a4-5fd7-43c7-8bcd-ad7227dfddca"
      },
      "execution_count": null,
      "outputs": [
        {
          "output_type": "stream",
          "name": "stdout",
          "text": [
            "0.8154960938685093\n"
          ]
        }
      ]
    },
    {
      "cell_type": "code",
      "source": [
        "## we cannot really expect data aggregation to outperform feature aggregation due to the limitations of the deep neural networks"
      ],
      "metadata": {
        "id": "snEVhOfhBXwz"
      },
      "execution_count": null,
      "outputs": []
    },
    {
      "cell_type": "code",
      "source": [
        "import numpy as np\n",
        "import matplotlib.pyplot as plt\n",
        "from sklearn.metrics import roc_curve, auc\n",
        "import tensorflow as tf\n",
        "from tensorflow import keras\n",
        "from tensorflow.keras.models import Sequential\n",
        "from tensorflow.keras.layers import Conv1D, Flatten, Dense\n",
        "from tensorflow.keras.optimizers import Adam\n",
        "from sklearn.metrics import roc_auc_score # Ensure this is imported for the plot\n",
        "\n",
        "# --- Re-define get_model here for self-containment if running separately ---\n",
        "def get_model(input_shape: tuple):\n",
        "    model = Sequential()\n",
        "    model.add(Conv1D(filters=64, kernel_size=3, strides=1, padding='same', activation='relu', input_shape=input_shape))\n",
        "    model.add(Conv1D(filters=128, kernel_size=3, strides=1, padding='same', activation='relu'))\n",
        "    model.add(Conv1D(filters=128, kernel_size=3, strides=1, padding='same', activation='relu'))\n",
        "    model.add(Conv1D(filters=64, kernel_size=3, strides=1, padding='same', activation='relu'))\n",
        "    model.add(Flatten())\n",
        "    model.add(Dense(units=128, activation='relu'))\n",
        "    model.add(Dense(units=1, activation='sigmoid'))\n",
        "    model.compile(optimizer=Adam(learning_rate=0.001),\n",
        "                  loss='binary_crossentropy',\n",
        "                  metrics=['accuracy'])\n",
        "    return model\n",
        "\n",
        "\n",
        "# --- Parameters for CNN ---\n",
        "sample_number = 32\n",
        "channel_number = 8\n",
        "\n",
        "# --- Perform a single run to get test data and predictions for ROC curve ---\n",
        "print(\"Generating ROC curve for one CNN model run...\")\n",
        "\n",
        "# Get a single train-test split\n",
        "train_idxs_single_run, test_idxs_single_run = get_train_split(unique_patient_ids, data_idxs, data_patient_ids)\n",
        "\n",
        "# Prepare data for this single run\n",
        "train_data_single_run = []\n",
        "train_labels_single_run = []\n",
        "for data_index in train_idxs_single_run:\n",
        "    train_data_single_run.append(data[data_index].T)\n",
        "    train_labels_single_run.append(data_labels[data_index])\n",
        "train_data_single_run = np.asarray(train_data_single_run)\n",
        "train_labels_single_run = np.asarray(train_labels_single_run)\n",
        "\n",
        "test_data_single_run = []\n",
        "test_labels_single_run = []\n",
        "for data_index in test_idxs_single_run:\n",
        "    test_data_single_run.append(data[data_index].T)\n",
        "    test_labels_single_run.append(data_labels[data_index])\n",
        "test_data_single_run = np.asarray(test_data_single_run)\n",
        "test_labels_single_run = np.asarray(test_labels_single_run)\n",
        "\n",
        "# Instantiate and train the model\n",
        "model_single_run = get_model((sample_number, channel_number))\n",
        "model_single_run.fit(train_data_single_run, train_labels_single_run, epochs=10, batch_size=32, verbose=0)\n",
        "\n",
        "# Get predictions (probabilities) on the test set\n",
        "y_pred_single_run = model_single_run.predict(test_data_single_run)\n",
        "\n",
        "# Calculate ROC curve points\n",
        "fpr, tpr, thresholds = roc_curve(test_labels_single_run, y_pred_single_run)\n",
        "roc_auc = auc(fpr, tpr)\n",
        "\n",
        "# Plot the ROC curve\n",
        "plt.figure(figsize=(8, 6))\n",
        "plt.plot(fpr, tpr, color='darkorange', lw=2, label=f'ROC curve (AUC = {roc_auc:.2f})')\n",
        "plt.plot([0, 1], [0, 1], color='navy', lw=2, linestyle='--', label='Random Classifier (AUC = 0.50)')\n",
        "plt.xlim([0.0, 1.0])\n",
        "plt.ylim([0.0, 1.05])\n",
        "plt.xlabel('False Positive Rate (1 - Specificity)')\n",
        "plt.ylabel('True Positive Rate (Sensitivity)')\n",
        "plt.title('Receiver Operating Characteristic (ROC) Curve for Data-Level Aggregation (CNN)')\n",
        "plt.legend(loc=\"lower right\")\n",
        "plt.grid(True)\n",
        "plt.show()\n",
        "\n",
        "print(f\"AUC for this single CNN run: {roc_auc:.4f}\")"
      ],
      "metadata": {
        "colab": {
          "base_uri": "https://localhost:8080/",
          "height": 671
        },
        "id": "QclV8PxwFRGE",
        "outputId": "519d2c48-9aaf-4df2-cd76-4a8bb5adf627"
      },
      "execution_count": null,
      "outputs": [
        {
          "output_type": "stream",
          "name": "stdout",
          "text": [
            "Generating ROC curve for one CNN model run...\n"
          ]
        },
        {
          "output_type": "stream",
          "name": "stderr",
          "text": [
            "/usr/local/lib/python3.11/dist-packages/keras/src/layers/convolutional/base_conv.py:107: UserWarning: Do not pass an `input_shape`/`input_dim` argument to a layer. When using Sequential models, prefer using an `Input(shape)` object as the first layer in the model instead.\n",
            "  super().__init__(activity_regularizer=activity_regularizer, **kwargs)\n"
          ]
        },
        {
          "output_type": "stream",
          "name": "stdout",
          "text": [
            "\u001b[1m3/3\u001b[0m \u001b[32m━━━━━━━━━━━━━━━━━━━━\u001b[0m\u001b[37m\u001b[0m \u001b[1m0s\u001b[0m 58ms/step\n"
          ]
        },
        {
          "output_type": "display_data",
          "data": {
            "text/plain": [
              "<Figure size 800x600 with 1 Axes>"
            ],
            "image/png": "[encoded data removed]"
          },
          "metadata": {}
        },
        {
          "output_type": "stream",
          "name": "stdout",
          "text": [
            "AUC for this single CNN run: 0.8163\n"
          ]
        }
      ]
    }
  ],
  "metadata": {
    "colab": {
      "provenance": []
    },
    "kernelspec": {
      "display_name": "Python 3",
      "name": "python3"
    },
    "language_info": {
      "name": "python"
    }
  },
  "nbformat": 4,
  "nbformat_minor": 0
}